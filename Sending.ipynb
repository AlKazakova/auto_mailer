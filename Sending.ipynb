{
  "nbformat": 4,
  "nbformat_minor": 0,
  "metadata": {
    "colab": {
      "provenance": [],
      "authorship_tag": "ABX9TyNqrbjZkBxEnykHZ/P8+bY1",
      "include_colab_link": true
    },
    "kernelspec": {
      "name": "python3",
      "display_name": "Python 3"
    },
    "language_info": {
      "name": "python"
    }
  },
  "cells": [
    {
      "cell_type": "markdown",
      "metadata": {
        "id": "view-in-github",
        "colab_type": "text"
      },
      "source": [
        "<a href=\"https://colab.research.google.com/github/AlKazakova/auto_mailer/blob/main/Sending.ipynb\" target=\"_parent\"><img src=\"https://colab.research.google.com/assets/colab-badge.svg\" alt=\"Open In Colab\"/></a>"
      ]
    },
    {
      "cell_type": "code",
      "execution_count": null,
      "metadata": {
        "id": "wYjK-fhXneim"
      },
      "outputs": [],
      "source": [
        "from pathlib import Path\n",
        "import pandas as pd\n",
        "from string import Template\n",
        "import smtplib\n",
        "from email.mime.text import MIMEText\n",
        "from email.mime.multipart import MIMEMultipart\n",
        "\n",
        "ROOT = Path('/content/')"
      ]
    },
    {
      "cell_type": "code",
      "source": [
        "def get_contacts(contacts: pd.DataFrame):\n",
        "  contacts_file = pd.read_excel(ROOT / contacts)\n",
        "  personal_email = contacts_file['email']\n",
        "  return personal_email\n",
        "\n",
        "def read_template(message: str):\n",
        "  with open(ROOT / message, mode='r', encoding='utf-8') as template_file:\n",
        "    return template_file.read()\n",
        "\n",
        "personal_email = get_contacts('contacts.xlsx')\n",
        "message_template = read_template('message.txt')"
      ],
      "metadata": {
        "id": "_iBpv32NngZD"
      },
      "execution_count": null,
      "outputs": []
    },
    {
      "cell_type": "code",
      "source": [
        "# for each contact, send the email\n",
        "def send_mes(personal_email: ps.Series, message_template: str):\n",
        "  # set up the SMTP server\n",
        "  smtp_server = 'smtp.gmail.com'\n",
        "  port = 465\n",
        "  sender_email = 'alenakazakova.stud@gmail.com'\n",
        "  password = 'thereismypassword'\n",
        "  while True:\n",
        "    name_manager = input(\"Напишите свое имя:\").strip()    # remove spaces\n",
        "    if name_manager.isalpha():\n",
        "      break\n",
        "    else:\n",
        "      print('Неверно введено имя. Попробуйте еще раз.')\n",
        "  try:\n",
        "    print(\"Подключение к SMTP...\")\n",
        "    message = message_template.replace('{person_name}', name_manager)\n",
        "    with smtplib.SMTP_SSL(host=smtp_server, port=port) as server:\n",
        "      server.login(sender_email, password)    # login to mail server\n",
        "      print(\"Авторизация прошла!\")\n",
        "\n",
        "      for email in personal_email:\n",
        "        msg = MIMEMultipart()                               # create a message\n",
        "        msg['From'] = sender_email\n",
        "        msg['To'] = email\n",
        "        msg['Subject'] = 'АЗИМУТ ФОТОНИКС выставка \"ФОТОНИКА 2025\"'\n",
        "        msg.attach(MIMEText(message, 'html'))     # add in the message body\n",
        "        print(\"Отправка письма...\")\n",
        "        try:\n",
        "          server.send_message(msg)                            # send the message via the server set up earlier\n",
        "          print(f'Письмо успешно отправлено на почту {email}')\n",
        "        except Exception as send_err:\n",
        "          print(f'Ошибка при отправке письма {email}: {send_err}')\n",
        "        del msg\n",
        "  except Exception as e:\n",
        "    print(f'Произошла ошибка при подключении к серверу: {e}')\n",
        "\n",
        "\n",
        "send_mes(personal_email, message_template)"
      ],
      "metadata": {
        "id": "22ZZmz1gnipn"
      },
      "execution_count": null,
      "outputs": []
    }
  ]
}